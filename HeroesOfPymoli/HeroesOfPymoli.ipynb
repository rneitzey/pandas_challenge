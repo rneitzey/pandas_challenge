{
 "cells": [
  {
   "cell_type": "markdown",
   "metadata": {},
   "source": [
    "### Note\n",
    "* Instructions have been included for each segment. You do not have to follow them exactly, but they are included to help you think through the steps."
   ]
  },
  {
   "cell_type": "code",
   "execution_count": null,
   "metadata": {},
   "outputs": [],
   "source": [
    "# Dependencies and Setup\n",
    "import pandas as pd\n",
    "\n",
    "# File to Load \n",
    "file_to_load = \"Resources/purchase_data.csv\"\n",
    "\n",
    "# Read Purchasing File and store into Pandas data frame\n",
    "purchase_data = pd.read_csv(file_to_load)"
   ]
  },
  {
   "cell_type": "code",
   "execution_count": null,
   "metadata": {},
   "outputs": [],
   "source": [
    "# See data in file\n",
    "purchase_data.head()"
   ]
  },
  {
   "cell_type": "markdown",
   "metadata": {},
   "source": [
    "## Player Count"
   ]
  },
  {
   "cell_type": "markdown",
   "metadata": {},
   "source": [
    "* Display the total number of players\n"
   ]
  },
  {
   "cell_type": "code",
   "execution_count": null,
   "metadata": {
    "scrolled": true
   },
   "outputs": [],
   "source": [
    "# Create variable and data frame for total players\n",
    "total_players = len(purchase_data[\"SN\"].unique())\n",
    "summary_table = pd.DataFrame({\"Total Players\": [total_players]})\n",
    "summary_table"
   ]
  },
  {
   "cell_type": "markdown",
   "metadata": {},
   "source": [
    "## Purchasing Analysis (Total)"
   ]
  },
  {
   "cell_type": "markdown",
   "metadata": {},
   "source": [
    "* Run basic calculations to obtain number of unique items, average price, etc.\n",
    "\n",
    "\n",
    "* Create a summary data frame to hold the results\n",
    "\n",
    "\n",
    "* Optional: give the displayed data cleaner formatting\n",
    "\n",
    "\n",
    "* Display the summary data frame\n"
   ]
  },
  {
   "cell_type": "code",
   "execution_count": null,
   "metadata": {},
   "outputs": [],
   "source": [
    "# Create variables for summary table\n",
    "items = len(purchase_data[\"Item ID\"].unique())\n",
    "average_price = purchase_data[\"Price\"].mean()\n",
    "number_purchases = len(purchase_data[\"Purchase ID\"].unique())\n",
    "total_revenue = purchase_data[\"Price\"].sum()"
   ]
  },
  {
   "cell_type": "code",
   "execution_count": null,
   "metadata": {},
   "outputs": [],
   "source": [
    "# Summarize into a Data Frame\n",
    "summary_table = pd.DataFrame({\"Number of Unique Items\": [items],\n",
    "                              \"Average Price\": float(average_price),\n",
    "                              \"Number of Purchases\": number_purchases,\n",
    "                              \"Total Revenue\": float(total_revenue)})\n",
    "# Formatting for summary table\n",
    "summary_table[\"Average Price\"] = summary_table[\"Average Price\"].map(\"${:.2f}\".format)\n",
    "summary_table[\"Total Revenue\"] = summary_table[\"Total Revenue\"].map(\"${:.2f}\".format)\n",
    "summary_table"
   ]
  },
  {
   "cell_type": "markdown",
   "metadata": {},
   "source": [
    "## Gender Demographics"
   ]
  },
  {
   "cell_type": "markdown",
   "metadata": {},
   "source": [
    "* Percentage and Count of Male Players\n",
    "\n",
    "\n",
    "* Percentage and Count of Female Players\n",
    "\n",
    "\n",
    "* Percentage and Count of Other / Non-Disclosed\n",
    "\n",
    "\n"
   ]
  },
  {
   "cell_type": "code",
   "execution_count": null,
   "metadata": {},
   "outputs": [],
   "source": [
    "#Remove duplicates for count\n",
    "remove_dup = purchase_data.drop_duplicates(subset = 'SN')\n",
    "\n",
    "# Create variables for columns\n",
    "total_counts = remove_dup[\"Gender\"].value_counts()\n",
    "total_players = purchase_data[\"SN\"].nunique()\n",
    "gender_percent =  total_counts / total_players * 100\n"
   ]
  },
  {
   "cell_type": "code",
   "execution_count": null,
   "metadata": {},
   "outputs": [],
   "source": [
    "# Create Summary table\n",
    "summary_df = pd.DataFrame({\"Total Count\": total_counts,\n",
    "                           \"Percentage of Players\": gender_percent})\n",
    "# Formatting for summary table\n",
    "summary_df[\"Percentage of Players\"] = summary_df[\"Percentage of Players\"].map(\"{:.2f}%\".format)\n",
    "summary_df"
   ]
  },
  {
   "cell_type": "markdown",
   "metadata": {},
   "source": [
    "\n",
    "## Purchasing Analysis (Gender)"
   ]
  },
  {
   "cell_type": "markdown",
   "metadata": {},
   "source": [
    "* Run basic calculations to obtain purchase count, avg. purchase price, avg. purchase total per person etc. by gender\n",
    "\n",
    "\n",
    "\n",
    "\n",
    "* Create a summary data frame to hold the results\n",
    "\n",
    "\n",
    "* Optional: give the displayed data cleaner formatting\n",
    "\n",
    "\n",
    "* Display the summary data frame"
   ]
  },
  {
   "cell_type": "code",
   "execution_count": null,
   "metadata": {
    "scrolled": false
   },
   "outputs": [],
   "source": [
    "# Using GroupBy in order to separate the data into fields according to \"Gender\" values\n",
    "grouped_gender = purchase_data.groupby(['Gender'])\n",
    "\n",
    "# Create variables for summary data frame\n",
    "purchase_count = grouped_gender[\"Purchase ID\"].count()\n",
    "average_price = (round(grouped_gender[\"Price\"].mean(),2))\n",
    "total_value = grouped_gender[\"Price\"].sum()\n",
    "\n",
    "# Group by user and their total purchase price\n",
    "grouped_user = purchase_data.groupby(['SN','Price'])\n",
    "\n",
    "# Create variable for average per user\n",
    "avg_perperson = (round(total_value/total_counts,2))"
   ]
  },
  {
   "cell_type": "code",
   "execution_count": null,
   "metadata": {},
   "outputs": [],
   "source": [
    "# Create Data Frame for summary info\n",
    "summary_df = pd.DataFrame ({\"Purchase Count\" : purchase_count,\n",
    "                            \"Average Purchase Price\" : average_price.map(\"${:.2f}\".format),\n",
    "                            \"Total Purchase Value\" : total_value.map(\"${:.2f}\".format),\n",
    "                            \"Avg Total Purchase per Person\" : avg_perperson.map(\"${:.2f}\".format)})\n",
    "summary_df"
   ]
  },
  {
   "cell_type": "markdown",
   "metadata": {},
   "source": [
    "## Age Demographics"
   ]
  },
  {
   "cell_type": "markdown",
   "metadata": {},
   "source": [
    "* Establish bins for ages\n",
    "\n",
    "\n",
    "* Categorize the existing players using the age bins. Hint: use pd.cut()\n",
    "\n",
    "\n",
    "* Calculate the numbers and percentages by age group\n",
    "\n",
    "\n",
    "* Create a summary data frame to hold the results\n",
    "\n",
    "\n",
    "* Optional: round the percentage column to two decimal points\n",
    "\n",
    "\n",
    "* Display Age Demographics Table\n"
   ]
  },
  {
   "cell_type": "code",
   "execution_count": null,
   "metadata": {},
   "outputs": [],
   "source": [
    "age_df = remove_dup.copy()\n",
    "\n",
    "# Create bins for ages\n",
    "bins = [-1, 9, 14, 19, 24, 29, 34, 39, age_df[\"Age\"].max()]\n",
    "\n",
    "# Create labels for these bins\n",
    "group_labels = [\"<10\", \"10-14\", \"15-19\", \"20-24\", \"25-29\", \"30-34\", \"35-39\", \"40+\"]"
   ]
  },
  {
   "cell_type": "code",
   "execution_count": null,
   "metadata": {},
   "outputs": [],
   "source": [
    "# Place the data series into a new column inside of the DataFrame\n",
    "age_df[\"Age Ranges\"] = pd.cut(age_df[\"Age\"], bins, labels=group_labels)\n",
    "age_df.head()"
   ]
  },
  {
   "cell_type": "code",
   "execution_count": null,
   "metadata": {},
   "outputs": [],
   "source": [
    "# Create a GroupBy object based upon \"Age Ranges\"\n",
    "age_groupby = age_df.groupby(['Age Ranges'])"
   ]
  },
  {
   "cell_type": "code",
   "execution_count": null,
   "metadata": {},
   "outputs": [],
   "source": [
    "# Create variables for data frame\n",
    "totals_range = age_groupby['Age Ranges'].value_counts()\n",
    "total_count = round(age_df[\"SN\"].count(),2)\n",
    "age_percent =  round((totals_range / total_count) * 100,2)"
   ]
  },
  {
   "cell_type": "code",
   "execution_count": null,
   "metadata": {},
   "outputs": [],
   "source": [
    "# Create Summary table\n",
    "summary_age = pd.DataFrame({\"Total Count\": totals_range,\n",
    "                           \"Percentage of Players\": age_percent})\n",
    "\n",
    "# Formatting for summary table\n",
    "summary_age[\"Percentage of Players\"] = summary_age[\"Percentage of Players\"].map(\"{:.2f}%\".format)\n",
    "summary_age"
   ]
  },
  {
   "cell_type": "markdown",
   "metadata": {},
   "source": [
    "## Purchasing Analysis (Age)"
   ]
  },
  {
   "cell_type": "markdown",
   "metadata": {},
   "source": [
    "* Bin the purchase_data data frame by age\n",
    "\n",
    "\n",
    "* Run basic calculations to obtain purchase count, avg. purchase price, avg. purchase total per person etc. in the table below\n",
    "\n",
    "\n",
    "* Create a summary data frame to hold the results\n",
    "\n",
    "\n",
    "* Optional: give the displayed data cleaner formatting\n",
    "\n",
    "\n",
    "* Display the summary data frame"
   ]
  },
  {
   "cell_type": "code",
   "execution_count": null,
   "metadata": {
    "scrolled": true
   },
   "outputs": [],
   "source": [
    "# Create bins for ages\n",
    "bins = [-1, 9, 14, 19, 24, 29, 34, 39, purchase_data[\"Age\"].max()]\n",
    "\n",
    "# Create labels for these bins\n",
    "group_labels = [\"<10\", \"10-14\", \"15-19\", \"20-24\", \"25-29\", \"30-34\", \"35-39\", \"40+\"]\n"
   ]
  },
  {
   "cell_type": "code",
   "execution_count": null,
   "metadata": {},
   "outputs": [],
   "source": [
    "# Place the data series into a new column inside of the DataFrame\n",
    "purchase_data[\"Age Ranges\"] = pd.cut(purchase_data[\"Age\"], bins, labels=group_labels)\n",
    "purchase_data.head()"
   ]
  },
  {
   "cell_type": "code",
   "execution_count": null,
   "metadata": {},
   "outputs": [],
   "source": [
    "# Create a GroupBy object based upon \"Age Ranges\"\n",
    "grouped_age = purchase_data.groupby([\"Age Ranges\"])"
   ]
  },
  {
   "cell_type": "code",
   "execution_count": null,
   "metadata": {},
   "outputs": [],
   "source": [
    "# Create variables for summary data frame\n",
    "purchase_count = grouped_age[\"Purchase ID\"].count()\n",
    "average_price = (round(grouped_age[\"Price\"].mean(),2))\n",
    "total_value = grouped_age[\"Price\"].sum()"
   ]
  },
  {
   "cell_type": "code",
   "execution_count": null,
   "metadata": {},
   "outputs": [],
   "source": [
    "# Group by user and their total purchase price\n",
    "grouped_user = age_df.groupby(['SN','Price'])\n",
    "\n",
    "# Create variable for unique players in each group\n",
    "grouped_players = grouped_age[\"SN\"].nunique()\n",
    "\n",
    "# Create variable for average per user\n",
    "avg_perperson = (round(total_value / grouped_players,2))"
   ]
  },
  {
   "cell_type": "code",
   "execution_count": null,
   "metadata": {},
   "outputs": [],
   "source": [
    "# Create Data Frame for summary info\n",
    "summary_range = pd.DataFrame ({\"Purchase Count\" : purchase_count,\n",
    "                            \"Average Purchase Price\" : average_price.map(\"${:.2f}\".format),\n",
    "                            \"Total Purchase Value\" : total_value.map(\"${:.2f}\".format),\n",
    "                            \"Avg Total Purchase per Person\" : avg_perperson.map(\"${:.2f}\".format)})\n",
    "summary_range"
   ]
  },
  {
   "cell_type": "markdown",
   "metadata": {},
   "source": [
    "## Top Spenders"
   ]
  },
  {
   "cell_type": "markdown",
   "metadata": {},
   "source": [
    "* Run basic calculations to obtain the results in the table below\n",
    "\n",
    "\n",
    "* Create a summary data frame to hold the results\n",
    "\n",
    "\n",
    "* Sort the total purchase value column in descending order\n",
    "\n",
    "\n",
    "* Optional: give the displayed data cleaner formatting\n",
    "\n",
    "\n",
    "* Display a preview of the summary data frame\n",
    "\n"
   ]
  },
  {
   "cell_type": "code",
   "execution_count": null,
   "metadata": {
    "scrolled": true
   },
   "outputs": [],
   "source": [
    "# Group by users\n",
    "grouped_top_user = purchase_data.groupby(['SN'])"
   ]
  },
  {
   "cell_type": "code",
   "execution_count": null,
   "metadata": {},
   "outputs": [],
   "source": [
    "# Create variables for data frame\n",
    "grouped_top_user_count = grouped_top_user[\"Purchase ID\"].count()\n",
    "average_grouped_top_user = round(grouped_top_user[\"Price\"].mean(),2)\n",
    "sum_grouped_top_user = grouped_top_user[\"Price\"].sum()"
   ]
  },
  {
   "cell_type": "code",
   "execution_count": null,
   "metadata": {},
   "outputs": [],
   "source": [
    "# Create Data Frame for summary info\n",
    "summary_top_spenders = pd.DataFrame ({\"Purchase Count\" : grouped_top_user_count,\n",
    "                            \"Average Purchase Price\" : average_grouped_top_user.map(\"${:.2f}\".format),\n",
    "                            \"Total Purchase Value\" : sum_grouped_top_user.map(\"${:.2f}\".format)})\n",
    "\n",
    "summary_top_spenders_sort = summary_top_spenders.sort_values([\"Total Purchase Value\"],ascending=False)\n",
    "summary_top_spenders_sort"
   ]
  },
  {
   "cell_type": "markdown",
   "metadata": {},
   "source": [
    "## Most Popular Items"
   ]
  },
  {
   "cell_type": "markdown",
   "metadata": {},
   "source": [
    "* Retrieve the Item ID, Item Name, and Item Price columns\n",
    "\n",
    "\n",
    "* Group by Item ID and Item Name. Perform calculations to obtain purchase count, item price, and total purchase value\n",
    "\n",
    "\n",
    "* Create a summary data frame to hold the results\n",
    "\n",
    "\n",
    "* Sort the purchase count column in descending order\n",
    "\n",
    "\n",
    "* Optional: give the displayed data cleaner formatting\n",
    "\n",
    "\n",
    "* Display a preview of the summary data frame\n",
    "\n"
   ]
  },
  {
   "cell_type": "code",
   "execution_count": null,
   "metadata": {},
   "outputs": [],
   "source": [
    "# Create data frame with specific columns\n",
    "columns_df = purchase_data[[\"Item ID\",\"Item Name\",\"Price\"]]"
   ]
  },
  {
   "cell_type": "code",
   "execution_count": null,
   "metadata": {},
   "outputs": [],
   "source": [
    "# Group by Item ID and Item Name\n",
    "Item_groupby = columns_df.groupby(['Item ID','Item Name'])\n",
    "\n",
    "# Create variables for table.\n",
    "item_count = Item_groupby[\"Item ID\"].count()\n",
    "item_price = Item_groupby[\"Price\"].mean()\n",
    "items_total = Item_groupby[\"Price\"].sum()"
   ]
  },
  {
   "cell_type": "code",
   "execution_count": null,
   "metadata": {},
   "outputs": [],
   "source": [
    "# Creating a new DataFrame using both Item ID and Item Name\n",
    "item_summary_table  = pd.DataFrame({\"Purchase Count\": item_count,\n",
    "                                   \"Item Price\": item_price.map(\"${:.2f}\".format),\n",
    "                                   \"Total Purchase Value\": items_total.map(\"${:.2f}\".format)})\n",
    "item_summary_table"
   ]
  },
  {
   "cell_type": "code",
   "execution_count": null,
   "metadata": {},
   "outputs": [],
   "source": [
    "# Sort by Purchase Count in descending order\n",
    "item_summary_table_sort = item_summary_table.sort_values([\"Purchase Count\"],ascending=False)\n",
    "item_summary_table_sort"
   ]
  },
  {
   "cell_type": "markdown",
   "metadata": {},
   "source": [
    "## Most Profitable Items"
   ]
  },
  {
   "cell_type": "markdown",
   "metadata": {},
   "source": [
    "* Sort the above table by total purchase value in descending order\n",
    "\n",
    "\n",
    "* Optional: give the displayed data cleaner formatting\n",
    "\n",
    "\n",
    "* Display a preview of the data frame\n",
    "\n"
   ]
  },
  {
   "cell_type": "code",
   "execution_count": null,
   "metadata": {},
   "outputs": [],
   "source": [
    "# Create data frame with total purchase value in descending order\n",
    "item_sort_table_value = item_summary_table.sort_values(\"Total Purchase Value\", ascending=False)\n",
    "item_sort_table_value"
   ]
  },
  {
   "cell_type": "markdown",
   "metadata": {},
   "source": [
    "## Three conclusions from data:\n",
    "- The 20-24 age group made the most purchases and spent the most on optional items for their gaming experience.\n",
    "- Males spend the most on optional items for their gaming experience.\n",
    "- Although males and age group 20-24 spend the most on optional items, females spend more per person on average and the 35-39 age group spend the most per person on average. It would make sense to focus marketing more towards females and people in their mid to late 30's. "
   ]
  }
 ],
 "metadata": {
  "anaconda-cloud": {},
  "kernel_info": {
   "name": "python3"
  },
  "kernelspec": {
   "display_name": "Python [conda env:testenv] *",
   "language": "python",
   "name": "conda-env-testenv-py"
  },
  "language_info": {
   "codemirror_mode": {
    "name": "ipython",
    "version": 3
   },
   "file_extension": ".py",
   "mimetype": "text/x-python",
   "name": "python",
   "nbconvert_exporter": "python",
   "pygments_lexer": "ipython3",
   "version": "3.7.4"
  },
  "latex_envs": {
   "LaTeX_envs_menu_present": true,
   "autoclose": false,
   "autocomplete": true,
   "bibliofile": "biblio.bib",
   "cite_by": "apalike",
   "current_citInitial": 1,
   "eqLabelWithNumbers": true,
   "eqNumInitial": 1,
   "hotkeys": {
    "equation": "Ctrl-E",
    "itemize": "Ctrl-I"
   },
   "labels_anchors": false,
   "latex_user_defs": false,
   "report_style_numbering": false,
   "user_envs_cfg": false
  },
  "nteract": {
   "version": "0.2.0"
  }
 },
 "nbformat": 4,
 "nbformat_minor": 2
}
